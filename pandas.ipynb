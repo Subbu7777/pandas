{
 "cells": [
  {
   "cell_type": "code",
   "execution_count": 2,
   "id": "345312b7",
   "metadata": {},
   "outputs": [],
   "source": [
    "import pandas as p"
   ]
  },
  {
   "cell_type": "markdown",
   "id": "ffeb8001",
   "metadata": {},
   "source": [
    "## series operations"
   ]
  },
  {
   "cell_type": "code",
   "execution_count": 3,
   "id": "141c43a0",
   "metadata": {},
   "outputs": [
    {
     "name": "stdout",
     "output_type": "stream",
     "text": [
      "math       43\n",
      "sci     66.04\n",
      "phy        87\n",
      "tel        78\n",
      "eng       435\n",
      "dtype: object\n"
     ]
    }
   ],
   "source": [
    "pp=p.Series(data=['43',66.04,87,'78',435],index=['math','sci','phy','tel','eng'],dtype=str)\n",
    "print(pp)"
   ]
  },
  {
   "cell_type": "markdown",
   "id": "21059836",
   "metadata": {},
   "source": [
    "### sdid :seri,data,index,dtype"
   ]
  },
  {
   "cell_type": "code",
   "execution_count": 4,
   "id": "b3a8b06a",
   "metadata": {},
   "outputs": [
    {
     "data": {
      "text/plain": [
       "0      43\n",
       "1    4332\n",
       "2    3254\n",
       "3     324\n",
       "dtype: int64"
      ]
     },
     "execution_count": 4,
     "metadata": {},
     "output_type": "execute_result"
    }
   ],
   "source": [
    "p.Series([43,4332,3254,324]) # defaultily takes 0,1,2...."
   ]
  },
  {
   "cell_type": "code",
   "execution_count": 5,
   "id": "f6adb21f",
   "metadata": {},
   "outputs": [
    {
     "data": {
      "text/plain": [
       "32    NaN\n",
       "21    NaN\n",
       "122   NaN\n",
       "123   NaN\n",
       "dtype: float64"
      ]
     },
     "execution_count": 5,
     "metadata": {},
     "output_type": "execute_result"
    }
   ],
   "source": [
    "p.Series(index=[32,21,122,123],dtype=int)"
   ]
  },
  {
   "cell_type": "code",
   "execution_count": 6,
   "id": "f80527bf",
   "metadata": {},
   "outputs": [
    {
     "data": {
      "text/plain": [
       "0      43\n",
       "1      23\n",
       "2      12\n",
       "3    4354\n",
       "4      45\n",
       "5      32\n",
       "dtype: int64"
      ]
     },
     "execution_count": 6,
     "metadata": {},
     "output_type": "execute_result"
    }
   ],
   "source": [
    "p.Series(data=[43,23,12,4354,45,32])"
   ]
  },
  {
   "cell_type": "code",
   "execution_count": 7,
   "id": "e0fa940c",
   "metadata": {},
   "outputs": [
    {
     "data": {
      "text/plain": [
       "a    1\n",
       "b    2\n",
       "c    3\n",
       "d    4\n",
       "dtype: int64"
      ]
     },
     "execution_count": 7,
     "metadata": {},
     "output_type": "execute_result"
    }
   ],
   "source": [
    "dic={'a':1,'b':2,'c':3,'d':4}\n",
    "p.Series(dic)  #dictionary convertes into the series"
   ]
  },
  {
   "cell_type": "code",
   "execution_count": 8,
   "id": "53e83c53",
   "metadata": {},
   "outputs": [
    {
     "data": {
      "text/plain": [
       "1    66\n",
       "2    66\n",
       "3    66\n",
       "4    66\n",
       "5    66\n",
       "dtype: int64"
      ]
     },
     "execution_count": 8,
     "metadata": {},
     "output_type": "execute_result"
    }
   ],
   "source": [
    "p.Series(data=66,index=[1,2,3,4,5])"
   ]
  },
  {
   "cell_type": "code",
   "execution_count": 9,
   "id": "33146d38",
   "metadata": {},
   "outputs": [
    {
     "name": "stdout",
     "output_type": "stream",
     "text": [
      "math       43\n",
      "sci     66.04\n",
      "phy        87\n",
      "tel        78\n",
      "eng       435\n",
      "dtype: object this is the data\n",
      "43 pp0\n",
      "78 pp3\n"
     ]
    },
    {
     "data": {
      "text/plain": [
       "(math       43\n",
       " sci     66.04\n",
       " phy        87\n",
       " tel        78\n",
       " dtype: object,\n",
       " phy    87\n",
       " tel    78\n",
       " dtype: object,\n",
       " math    43\n",
       " tel     78\n",
       " dtype: object)"
      ]
     },
     "execution_count": 9,
     "metadata": {},
     "output_type": "execute_result"
    }
   ],
   "source": [
    "print(pp,'this is the data')\n",
    "print(pp[0],'pp0'),print(pp[3],'pp3')  # gives the data value only\n",
    "pp[0:4],pp[[2,3]],pp[['math','tel']] # to access the values in multi ways"
   ]
  },
  {
   "cell_type": "code",
   "execution_count": 10,
   "id": "c49c6763",
   "metadata": {},
   "outputs": [
    {
     "name": "stdout",
     "output_type": "stream",
     "text": [
      "        43     433   32 \n",
      "sun    blue  green  None\n",
      "earth  dskf     dk   dkf\n",
      "plut    dkf    dfw   dfj\n"
     ]
    }
   ],
   "source": [
    "                                                        # Data Frames\n",
    "a=p.DataFrame(data=[['blue','green',],['dskf','dk','dkf'],['dkf','dfw','dfj']],index=['sun','earth','plut'],columns=[43,433,32])\n",
    "print(a)"
   ]
  },
  {
   "cell_type": "code",
   "execution_count": 11,
   "id": "0357494e",
   "metadata": {},
   "outputs": [
    {
     "data": {
      "text/plain": [
       "(sun      blue\n",
       " earth    dskf\n",
       " plut      dkf\n",
       " Name: 43, dtype: object,\n",
       " sun      green\n",
       " earth       dk\n",
       " plut       dfw\n",
       " Name: 433, dtype: object)"
      ]
     },
     "execution_count": 11,
     "metadata": {},
     "output_type": "execute_result"
    }
   ],
   "source": [
    "a[43],a[433] # to access the values by columns"
   ]
  },
  {
   "cell_type": "code",
   "execution_count": 12,
   "id": "7871149e",
   "metadata": {},
   "outputs": [
    {
     "data": {
      "text/html": [
       "<div>\n",
       "<style scoped>\n",
       "    .dataframe tbody tr th:only-of-type {\n",
       "        vertical-align: middle;\n",
       "    }\n",
       "\n",
       "    .dataframe tbody tr th {\n",
       "        vertical-align: top;\n",
       "    }\n",
       "\n",
       "    .dataframe thead th {\n",
       "        text-align: right;\n",
       "    }\n",
       "</style>\n",
       "<table border=\"1\" class=\"dataframe\">\n",
       "  <thead>\n",
       "    <tr style=\"text-align: right;\">\n",
       "      <th></th>\n",
       "      <th>43</th>\n",
       "      <th>433</th>\n",
       "      <th>32</th>\n",
       "    </tr>\n",
       "  </thead>\n",
       "  <tbody>\n",
       "    <tr>\n",
       "      <th>sun</th>\n",
       "      <td>blue</td>\n",
       "      <td>green</td>\n",
       "      <td>None</td>\n",
       "    </tr>\n",
       "    <tr>\n",
       "      <th>earth</th>\n",
       "      <td>dskf</td>\n",
       "      <td>dk</td>\n",
       "      <td>dkf</td>\n",
       "    </tr>\n",
       "  </tbody>\n",
       "</table>\n",
       "</div>"
      ],
      "text/plain": [
       "        43     433   32 \n",
       "sun    blue  green  None\n",
       "earth  dskf     dk   dkf"
      ]
     },
     "execution_count": 12,
     "metadata": {},
     "output_type": "execute_result"
    }
   ],
   "source": [
    "a[0:2] # prints the rows \n"
   ]
  },
  {
   "cell_type": "code",
   "execution_count": 13,
   "id": "6612c1be",
   "metadata": {},
   "outputs": [
    {
     "data": {
      "text/html": [
       "<div>\n",
       "<style scoped>\n",
       "    .dataframe tbody tr th:only-of-type {\n",
       "        vertical-align: middle;\n",
       "    }\n",
       "\n",
       "    .dataframe tbody tr th {\n",
       "        vertical-align: top;\n",
       "    }\n",
       "\n",
       "    .dataframe thead th {\n",
       "        text-align: right;\n",
       "    }\n",
       "</style>\n",
       "<table border=\"1\" class=\"dataframe\">\n",
       "  <thead>\n",
       "    <tr style=\"text-align: right;\">\n",
       "      <th></th>\n",
       "      <th>32</th>\n",
       "      <th>43</th>\n",
       "    </tr>\n",
       "  </thead>\n",
       "  <tbody>\n",
       "    <tr>\n",
       "      <th>sun</th>\n",
       "      <td>None</td>\n",
       "      <td>blue</td>\n",
       "    </tr>\n",
       "    <tr>\n",
       "      <th>earth</th>\n",
       "      <td>dkf</td>\n",
       "      <td>dskf</td>\n",
       "    </tr>\n",
       "    <tr>\n",
       "      <th>plut</th>\n",
       "      <td>dfj</td>\n",
       "      <td>dkf</td>\n",
       "    </tr>\n",
       "  </tbody>\n",
       "</table>\n",
       "</div>"
      ],
      "text/plain": [
       "         32    43\n",
       "sun    None  blue\n",
       "earth   dkf  dskf\n",
       "plut    dfj   dkf"
      ]
     },
     "execution_count": 13,
     "metadata": {},
     "output_type": "execute_result"
    }
   ],
   "source": [
    "a[[32,43]] #multiple columns accessing"
   ]
  },
  {
   "cell_type": "markdown",
   "id": "94be824c",
   "metadata": {},
   "source": [
    "## accessing by the index names , will print last one also"
   ]
  },
  {
   "cell_type": "code",
   "execution_count": 14,
   "id": "70fc9eba",
   "metadata": {},
   "outputs": [
    {
     "data": {
      "text/html": [
       "<div>\n",
       "<style scoped>\n",
       "    .dataframe tbody tr th:only-of-type {\n",
       "        vertical-align: middle;\n",
       "    }\n",
       "\n",
       "    .dataframe tbody tr th {\n",
       "        vertical-align: top;\n",
       "    }\n",
       "\n",
       "    .dataframe thead th {\n",
       "        text-align: right;\n",
       "    }\n",
       "</style>\n",
       "<table border=\"1\" class=\"dataframe\">\n",
       "  <thead>\n",
       "    <tr style=\"text-align: right;\">\n",
       "      <th></th>\n",
       "      <th>43</th>\n",
       "      <th>433</th>\n",
       "      <th>32</th>\n",
       "    </tr>\n",
       "  </thead>\n",
       "  <tbody>\n",
       "    <tr>\n",
       "      <th>sun</th>\n",
       "      <td>blue</td>\n",
       "      <td>green</td>\n",
       "      <td>None</td>\n",
       "    </tr>\n",
       "    <tr>\n",
       "      <th>earth</th>\n",
       "      <td>dskf</td>\n",
       "      <td>dk</td>\n",
       "      <td>dkf</td>\n",
       "    </tr>\n",
       "    <tr>\n",
       "      <th>plut</th>\n",
       "      <td>dkf</td>\n",
       "      <td>dfw</td>\n",
       "      <td>dfj</td>\n",
       "    </tr>\n",
       "  </tbody>\n",
       "</table>\n",
       "</div>"
      ],
      "text/plain": [
       "        43     433   32 \n",
       "sun    blue  green  None\n",
       "earth  dskf     dk   dkf\n",
       "plut    dkf    dfw   dfj"
      ]
     },
     "execution_count": 14,
     "metadata": {},
     "output_type": "execute_result"
    }
   ],
   "source": [
    "a['sun':] # accessing data by the rows # without using ':' gives the error"
   ]
  },
  {
   "cell_type": "code",
   "execution_count": 15,
   "id": "f544586e",
   "metadata": {},
   "outputs": [
    {
     "data": {
      "text/html": [
       "<div>\n",
       "<style scoped>\n",
       "    .dataframe tbody tr th:only-of-type {\n",
       "        vertical-align: middle;\n",
       "    }\n",
       "\n",
       "    .dataframe tbody tr th {\n",
       "        vertical-align: top;\n",
       "    }\n",
       "\n",
       "    .dataframe thead th {\n",
       "        text-align: right;\n",
       "    }\n",
       "</style>\n",
       "<table border=\"1\" class=\"dataframe\">\n",
       "  <thead>\n",
       "    <tr style=\"text-align: right;\">\n",
       "      <th></th>\n",
       "      <th>43</th>\n",
       "      <th>433</th>\n",
       "      <th>32</th>\n",
       "    </tr>\n",
       "  </thead>\n",
       "  <tbody>\n",
       "    <tr>\n",
       "      <th>sun</th>\n",
       "      <td>blue</td>\n",
       "      <td>green</td>\n",
       "      <td>None</td>\n",
       "    </tr>\n",
       "    <tr>\n",
       "      <th>earth</th>\n",
       "      <td>dskf</td>\n",
       "      <td>dk</td>\n",
       "      <td>dkf</td>\n",
       "    </tr>\n",
       "    <tr>\n",
       "      <th>plut</th>\n",
       "      <td>dkf</td>\n",
       "      <td>dfw</td>\n",
       "      <td>dfj</td>\n",
       "    </tr>\n",
       "  </tbody>\n",
       "</table>\n",
       "</div>"
      ],
      "text/plain": [
       "        43     433   32 \n",
       "sun    blue  green  None\n",
       "earth  dskf     dk   dkf\n",
       "plut    dkf    dfw   dfj"
      ]
     },
     "execution_count": 15,
     "metadata": {},
     "output_type": "execute_result"
    }
   ],
   "source": [
    "a['sun':'plut']"
   ]
  },
  {
   "cell_type": "code",
   "execution_count": 16,
   "id": "aae6f735",
   "metadata": {},
   "outputs": [
    {
     "data": {
      "text/html": [
       "<div>\n",
       "<style scoped>\n",
       "    .dataframe tbody tr th:only-of-type {\n",
       "        vertical-align: middle;\n",
       "    }\n",
       "\n",
       "    .dataframe tbody tr th {\n",
       "        vertical-align: top;\n",
       "    }\n",
       "\n",
       "    .dataframe thead th {\n",
       "        text-align: right;\n",
       "    }\n",
       "</style>\n",
       "<table border=\"1\" class=\"dataframe\">\n",
       "  <thead>\n",
       "    <tr style=\"text-align: right;\">\n",
       "      <th></th>\n",
       "      <th>43</th>\n",
       "      <th>433</th>\n",
       "      <th>32</th>\n",
       "    </tr>\n",
       "  </thead>\n",
       "  <tbody>\n",
       "    <tr>\n",
       "      <th>sun</th>\n",
       "      <td>blue</td>\n",
       "      <td>green</td>\n",
       "      <td>None</td>\n",
       "    </tr>\n",
       "    <tr>\n",
       "      <th>earth</th>\n",
       "      <td>dskf</td>\n",
       "      <td>dk</td>\n",
       "      <td>dkf</td>\n",
       "    </tr>\n",
       "  </tbody>\n",
       "</table>\n",
       "</div>"
      ],
      "text/plain": [
       "        43     433   32 \n",
       "sun    blue  green  None\n",
       "earth  dskf     dk   dkf"
      ]
     },
     "execution_count": 16,
     "metadata": {},
     "output_type": "execute_result"
    }
   ],
   "source": [
    "a[:'earth']"
   ]
  },
  {
   "cell_type": "markdown",
   "id": "8a17e4e0",
   "metadata": {},
   "source": [
    "## adding a new column to df"
   ]
  },
  {
   "cell_type": "code",
   "execution_count": 17,
   "id": "b778aa66",
   "metadata": {},
   "outputs": [],
   "source": [
    "                                                                           # adding a columns into dataframe\n",
    "a['89']=['yellow','skdf','dkfk']\n",
    "a['43']=['orange','df','wedf']"
   ]
  },
  {
   "cell_type": "code",
   "execution_count": 18,
   "id": "3643b205",
   "metadata": {},
   "outputs": [
    {
     "data": {
      "text/html": [
       "<div>\n",
       "<style scoped>\n",
       "    .dataframe tbody tr th:only-of-type {\n",
       "        vertical-align: middle;\n",
       "    }\n",
       "\n",
       "    .dataframe tbody tr th {\n",
       "        vertical-align: top;\n",
       "    }\n",
       "\n",
       "    .dataframe thead th {\n",
       "        text-align: right;\n",
       "    }\n",
       "</style>\n",
       "<table border=\"1\" class=\"dataframe\">\n",
       "  <thead>\n",
       "    <tr style=\"text-align: right;\">\n",
       "      <th></th>\n",
       "      <th>43</th>\n",
       "      <th>433</th>\n",
       "      <th>32</th>\n",
       "      <th>89</th>\n",
       "      <th>43</th>\n",
       "    </tr>\n",
       "  </thead>\n",
       "  <tbody>\n",
       "    <tr>\n",
       "      <th>sun</th>\n",
       "      <td>blue</td>\n",
       "      <td>green</td>\n",
       "      <td>None</td>\n",
       "      <td>yellow</td>\n",
       "      <td>orange</td>\n",
       "    </tr>\n",
       "    <tr>\n",
       "      <th>earth</th>\n",
       "      <td>dskf</td>\n",
       "      <td>dk</td>\n",
       "      <td>dkf</td>\n",
       "      <td>skdf</td>\n",
       "      <td>df</td>\n",
       "    </tr>\n",
       "    <tr>\n",
       "      <th>plut</th>\n",
       "      <td>dkf</td>\n",
       "      <td>dfw</td>\n",
       "      <td>dfj</td>\n",
       "      <td>dkfk</td>\n",
       "      <td>wedf</td>\n",
       "    </tr>\n",
       "  </tbody>\n",
       "</table>\n",
       "</div>"
      ],
      "text/plain": [
       "         43    433    32      89      43\n",
       "sun    blue  green  None  yellow  orange\n",
       "earth  dskf     dk   dkf    skdf      df\n",
       "plut    dkf    dfw   dfj    dkfk    wedf"
      ]
     },
     "execution_count": 18,
     "metadata": {},
     "output_type": "execute_result"
    }
   ],
   "source": [
    "a"
   ]
  },
  {
   "cell_type": "markdown",
   "id": "c2ddd146",
   "metadata": {},
   "source": [
    "## accessing by loc function "
   ]
  },
  {
   "cell_type": "code",
   "execution_count": 19,
   "id": "60c2ac76",
   "metadata": {},
   "outputs": [
    {
     "name": "stdout",
     "output_type": "stream",
     "text": [
      "43     dskf\n",
      "433      dk\n",
      "32      dkf\n",
      "89     skdf\n",
      "43       df\n",
      "Name: earth, dtype: object\n",
      "        43    433    32      89      43\n",
      "sun   blue  green  None  yellow  orange\n",
      "plut   dkf    dfw   dfj    dkfk    wedf\n",
      "           89      43\n",
      "sun    yellow  orange\n",
      "earth    skdf      df\n",
      "yellow its only one\n"
     ]
    }
   ],
   "source": [
    "# all are will be in the ' ' only must in loc \n",
    "print(a.loc['earth']) # print of only one row data \n",
    "print(a.loc[['sun','plut']])# print of multiple rows data\n",
    "print(a.loc[['sun','earth'],['89','43']])   #print of particular rows and columns data    \n",
    "print(a.loc['sun'].loc['89'],'its only one')# loc usage only one value accessing by row and column name"
   ]
  },
  {
   "cell_type": "code",
   "execution_count": 20,
   "id": "f1bc899f",
   "metadata": {},
   "outputs": [
    {
     "data": {
      "text/html": [
       "<div>\n",
       "<style scoped>\n",
       "    .dataframe tbody tr th:only-of-type {\n",
       "        vertical-align: middle;\n",
       "    }\n",
       "\n",
       "    .dataframe tbody tr th {\n",
       "        vertical-align: top;\n",
       "    }\n",
       "\n",
       "    .dataframe thead th {\n",
       "        text-align: right;\n",
       "    }\n",
       "</style>\n",
       "<table border=\"1\" class=\"dataframe\">\n",
       "  <thead>\n",
       "    <tr style=\"text-align: right;\">\n",
       "      <th></th>\n",
       "      <th>index</th>\n",
       "      <th>43</th>\n",
       "      <th>433</th>\n",
       "      <th>32</th>\n",
       "      <th>89</th>\n",
       "      <th>43</th>\n",
       "    </tr>\n",
       "  </thead>\n",
       "  <tbody>\n",
       "    <tr>\n",
       "      <th>0</th>\n",
       "      <td>sun</td>\n",
       "      <td>blue</td>\n",
       "      <td>green</td>\n",
       "      <td>None</td>\n",
       "      <td>yellow</td>\n",
       "      <td>orange</td>\n",
       "    </tr>\n",
       "    <tr>\n",
       "      <th>1</th>\n",
       "      <td>earth</td>\n",
       "      <td>dskf</td>\n",
       "      <td>dk</td>\n",
       "      <td>dkf</td>\n",
       "      <td>skdf</td>\n",
       "      <td>df</td>\n",
       "    </tr>\n",
       "    <tr>\n",
       "      <th>2</th>\n",
       "      <td>plut</td>\n",
       "      <td>dkf</td>\n",
       "      <td>dfw</td>\n",
       "      <td>dfj</td>\n",
       "      <td>dkfk</td>\n",
       "      <td>wedf</td>\n",
       "    </tr>\n",
       "  </tbody>\n",
       "</table>\n",
       "</div>"
      ],
      "text/plain": [
       "   index    43    433    32      89      43\n",
       "0    sun  blue  green  None  yellow  orange\n",
       "1  earth  dskf     dk   dkf    skdf      df\n",
       "2   plut   dkf    dfw   dfj    dkfk    wedf"
      ]
     },
     "execution_count": 20,
     "metadata": {},
     "output_type": "execute_result"
    }
   ],
   "source": [
    "a.reset_index() # to set index for a df for permenant inplace=True"
   ]
  },
  {
   "cell_type": "code",
   "execution_count": 21,
   "id": "032d327f",
   "metadata": {},
   "outputs": [
    {
     "data": {
      "text/html": [
       "<div>\n",
       "<style scoped>\n",
       "    .dataframe tbody tr th:only-of-type {\n",
       "        vertical-align: middle;\n",
       "    }\n",
       "\n",
       "    .dataframe tbody tr th {\n",
       "        vertical-align: top;\n",
       "    }\n",
       "\n",
       "    .dataframe thead th {\n",
       "        text-align: right;\n",
       "    }\n",
       "</style>\n",
       "<table border=\"1\" class=\"dataframe\">\n",
       "  <thead>\n",
       "    <tr style=\"text-align: right;\">\n",
       "      <th></th>\n",
       "      <th>43</th>\n",
       "      <th>433</th>\n",
       "      <th>32</th>\n",
       "      <th>89</th>\n",
       "      <th>43</th>\n",
       "    </tr>\n",
       "  </thead>\n",
       "  <tbody>\n",
       "    <tr>\n",
       "      <th>sun</th>\n",
       "      <td>blue</td>\n",
       "      <td>green</td>\n",
       "      <td>None</td>\n",
       "      <td>yellow</td>\n",
       "      <td>orange</td>\n",
       "    </tr>\n",
       "    <tr>\n",
       "      <th>earth</th>\n",
       "      <td>dskf</td>\n",
       "      <td>dk</td>\n",
       "      <td>dkf</td>\n",
       "      <td>skdf</td>\n",
       "      <td>df</td>\n",
       "    </tr>\n",
       "    <tr>\n",
       "      <th>plut</th>\n",
       "      <td>dkf</td>\n",
       "      <td>dfw</td>\n",
       "      <td>dfj</td>\n",
       "      <td>dkfk</td>\n",
       "      <td>wedf</td>\n",
       "    </tr>\n",
       "  </tbody>\n",
       "</table>\n",
       "</div>"
      ],
      "text/plain": [
       "         43    433    32      89      43\n",
       "sun    blue  green  None  yellow  orange\n",
       "earth  dskf     dk   dkf    skdf      df\n",
       "plut    dkf    dfw   dfj    dkfk    wedf"
      ]
     },
     "execution_count": 21,
     "metadata": {},
     "output_type": "execute_result"
    }
   ],
   "source": [
    "a"
   ]
  },
  {
   "cell_type": "code",
   "execution_count": 22,
   "id": "865c0523",
   "metadata": {},
   "outputs": [
    {
     "data": {
      "text/html": [
       "<div>\n",
       "<style scoped>\n",
       "    .dataframe tbody tr th:only-of-type {\n",
       "        vertical-align: middle;\n",
       "    }\n",
       "\n",
       "    .dataframe tbody tr th {\n",
       "        vertical-align: top;\n",
       "    }\n",
       "\n",
       "    .dataframe thead th {\n",
       "        text-align: right;\n",
       "    }\n",
       "</style>\n",
       "<table border=\"1\" class=\"dataframe\">\n",
       "  <thead>\n",
       "    <tr style=\"text-align: right;\">\n",
       "      <th></th>\n",
       "      <th>433</th>\n",
       "      <th>32</th>\n",
       "      <th>89</th>\n",
       "      <th>43</th>\n",
       "    </tr>\n",
       "    <tr>\n",
       "      <th>43</th>\n",
       "      <th></th>\n",
       "      <th></th>\n",
       "      <th></th>\n",
       "      <th></th>\n",
       "    </tr>\n",
       "  </thead>\n",
       "  <tbody>\n",
       "    <tr>\n",
       "      <th>blue</th>\n",
       "      <td>green</td>\n",
       "      <td>None</td>\n",
       "      <td>yellow</td>\n",
       "      <td>orange</td>\n",
       "    </tr>\n",
       "    <tr>\n",
       "      <th>dskf</th>\n",
       "      <td>dk</td>\n",
       "      <td>dkf</td>\n",
       "      <td>skdf</td>\n",
       "      <td>df</td>\n",
       "    </tr>\n",
       "    <tr>\n",
       "      <th>dkf</th>\n",
       "      <td>dfw</td>\n",
       "      <td>dfj</td>\n",
       "      <td>dkfk</td>\n",
       "      <td>wedf</td>\n",
       "    </tr>\n",
       "  </tbody>\n",
       "</table>\n",
       "</div>"
      ],
      "text/plain": [
       "        433    32      89      43\n",
       "43                               \n",
       "blue  green  None  yellow  orange\n",
       "dskf     dk   dkf    skdf      df\n",
       "dkf     dfw   dfj    dkfk    wedf"
      ]
     },
     "execution_count": 22,
     "metadata": {},
     "output_type": "execute_result"
    }
   ],
   "source": [
    "a.set_index(43) #inplace=True"
   ]
  },
  {
   "cell_type": "code",
   "execution_count": 23,
   "id": "a6797a20",
   "metadata": {},
   "outputs": [
    {
     "name": "stdout",
     "output_type": "stream",
     "text": [
      "[('sun', 0), ('moon', 1), ('jupyter', 2), ('sat', 3), ('neptune', 4)]\n"
     ]
    }
   ],
   "source": [
    "a=['sun','moon','jupyter','sat','neptune']\n",
    "b=[0,1,2,3,4]\n",
    "c=list(zip(a,b))                                               # new format of df\n",
    "print(c)"
   ]
  },
  {
   "cell_type": "code",
   "execution_count": 24,
   "id": "351760f5",
   "metadata": {},
   "outputs": [
    {
     "data": {
      "text/plain": [
       "MultiIndex([(    'sun', 0),\n",
       "            (   'moon', 1),\n",
       "            ('jupyter', 2),\n",
       "            (    'sat', 3),\n",
       "            ('neptune', 4)],\n",
       "           )"
      ]
     },
     "execution_count": 24,
     "metadata": {},
     "output_type": "execute_result"
    }
   ],
   "source": [
    "d=p.MultiIndex.from_tuples(c)\n",
    "d"
   ]
  },
  {
   "cell_type": "code",
   "execution_count": 25,
   "id": "00e5561f",
   "metadata": {},
   "outputs": [
    {
     "name": "stdout",
     "output_type": "stream",
     "text": [
      "['sun', 'moon', 'jupyter', 'sat', 'neptune'] MultiIndex([(    'sun', 0),\n",
      "            (   'moon', 1),\n",
      "            ('jupyter', 2),\n",
      "            (    'sat', 3),\n",
      "            ('neptune', 4)],\n",
      "           )\n"
     ]
    },
    {
     "data": {
      "text/html": [
       "<div>\n",
       "<style scoped>\n",
       "    .dataframe tbody tr th:only-of-type {\n",
       "        vertical-align: middle;\n",
       "    }\n",
       "\n",
       "    .dataframe tbody tr th {\n",
       "        vertical-align: top;\n",
       "    }\n",
       "\n",
       "    .dataframe thead th {\n",
       "        text-align: right;\n",
       "    }\n",
       "</style>\n",
       "<table border=\"1\" class=\"dataframe\">\n",
       "  <thead>\n",
       "    <tr style=\"text-align: right;\">\n",
       "      <th></th>\n",
       "      <th></th>\n",
       "      <th>planet name</th>\n",
       "    </tr>\n",
       "  </thead>\n",
       "  <tbody>\n",
       "    <tr>\n",
       "      <th>sun</th>\n",
       "      <th>0</th>\n",
       "      <td>sun</td>\n",
       "    </tr>\n",
       "    <tr>\n",
       "      <th>moon</th>\n",
       "      <th>1</th>\n",
       "      <td>moon</td>\n",
       "    </tr>\n",
       "    <tr>\n",
       "      <th>jupyter</th>\n",
       "      <th>2</th>\n",
       "      <td>jupyter</td>\n",
       "    </tr>\n",
       "    <tr>\n",
       "      <th>sat</th>\n",
       "      <th>3</th>\n",
       "      <td>sat</td>\n",
       "    </tr>\n",
       "    <tr>\n",
       "      <th>neptune</th>\n",
       "      <th>4</th>\n",
       "      <td>neptune</td>\n",
       "    </tr>\n",
       "  </tbody>\n",
       "</table>\n",
       "</div>"
      ],
      "text/plain": [
       "          planet name\n",
       "sun     0         sun\n",
       "moon    1        moon\n",
       "jupyter 2     jupyter\n",
       "sat     3         sat\n",
       "neptune 4     neptune"
      ]
     },
     "execution_count": 25,
     "metadata": {},
     "output_type": "execute_result"
    }
   ],
   "source": [
    "print(a,d)\n",
    "e=p.DataFrame(a,d,['planet name']) # a is index name d is above one data and last is column name\n",
    "e"
   ]
  },
  {
   "cell_type": "markdown",
   "id": "53196bd8",
   "metadata": {},
   "source": [
    "\n",
    "## Good df with dictionary"
   ]
  },
  {
   "cell_type": "code",
   "execution_count": 26,
   "id": "db361610",
   "metadata": {},
   "outputs": [
    {
     "name": "stdout",
     "output_type": "stream",
     "text": [
      "          SRH     RBC       MI\n",
      "0      warner   virat      NaN\n",
      "1  williamson     ABd    Rohit\n",
      "2       bhuvi     NaN   Pandya\n",
      "3         NaN  chahal  Malinga\n"
     ]
    },
    {
     "data": {
      "text/html": [
       "<div>\n",
       "<style scoped>\n",
       "    .dataframe tbody tr th:only-of-type {\n",
       "        vertical-align: middle;\n",
       "    }\n",
       "\n",
       "    .dataframe tbody tr th {\n",
       "        vertical-align: top;\n",
       "    }\n",
       "\n",
       "    .dataframe thead th {\n",
       "        text-align: right;\n",
       "    }\n",
       "</style>\n",
       "<table border=\"1\" class=\"dataframe\">\n",
       "  <thead>\n",
       "    <tr style=\"text-align: right;\">\n",
       "      <th></th>\n",
       "      <th>SRH</th>\n",
       "      <th>RBC</th>\n",
       "      <th>MI</th>\n",
       "    </tr>\n",
       "  </thead>\n",
       "  <tbody>\n",
       "    <tr>\n",
       "      <th>p1</th>\n",
       "      <td>warner</td>\n",
       "      <td>virat</td>\n",
       "      <td>NaN</td>\n",
       "    </tr>\n",
       "    <tr>\n",
       "      <th>p2</th>\n",
       "      <td>williamson</td>\n",
       "      <td>ABd</td>\n",
       "      <td>Rohit</td>\n",
       "    </tr>\n",
       "    <tr>\n",
       "      <th>p3</th>\n",
       "      <td>bhuvi</td>\n",
       "      <td>NaN</td>\n",
       "      <td>Pandya</td>\n",
       "    </tr>\n",
       "    <tr>\n",
       "      <th>p4</th>\n",
       "      <td>NaN</td>\n",
       "      <td>chahal</td>\n",
       "      <td>Malinga</td>\n",
       "    </tr>\n",
       "  </tbody>\n",
       "</table>\n",
       "</div>"
      ],
      "text/plain": [
       "           SRH     RBC       MI\n",
       "p1      warner   virat      NaN\n",
       "p2  williamson     ABd    Rohit\n",
       "p3       bhuvi     NaN   Pandya\n",
       "p4         NaN  chahal  Malinga"
      ]
     },
     "execution_count": 26,
     "metadata": {},
     "output_type": "execute_result"
    }
   ],
   "source": [
    "import numpy as n                          # Inserting NULL values in a dataframe\n",
    "aa={'SRH':['warner','williamson','bhuvi',n.nan],'RBC':['virat','ABd',n.nan,'chahal'],'MI':[n.nan,'Rohit','Pandya','Malinga']}\n",
    "pi=p.DataFrame(aa)  # create a data frame by dictionary                                   \n",
    "print(pi)\n",
    "p.DataFrame(aa,index=[\"p1\",\"p2\",\"p3\",\"p4\"])                 # Data Frame by dictionary giving new index"
   ]
  },
  {
   "cell_type": "markdown",
   "id": "e47eb9cc",
   "metadata": {},
   "source": [
    "## droping null"
   ]
  },
  {
   "cell_type": "code",
   "execution_count": 27,
   "id": "be139b9e",
   "metadata": {},
   "outputs": [
    {
     "name": "stdout",
     "output_type": "stream",
     "text": [
      "     SRH    RBC     MI\n",
      "0  False  False   True\n",
      "1  False  False  False\n",
      "2  False   True  False\n",
      "3   True  False  False\n",
      "          SRH  RBC     MI\n",
      "1  williamson  ABd  Rohit ??\n",
      "Empty DataFrame\n",
      "Columns: []\n",
      "Index: [0, 1, 2, 3]\n"
     ]
    }
   ],
   "source": [
    "print(pi.isnull())\n",
    "print(pi.dropna(),\"??\")  # print not null rows only\n",
    "print(pi.dropna(axis=1))"
   ]
  },
  {
   "cell_type": "markdown",
   "id": "d35f5026",
   "metadata": {},
   "source": [
    "### filling null values"
   ]
  },
  {
   "cell_type": "code",
   "execution_count": 28,
   "id": "a30342d3",
   "metadata": {},
   "outputs": [
    {
     "data": {
      "text/html": [
       "<div>\n",
       "<style scoped>\n",
       "    .dataframe tbody tr th:only-of-type {\n",
       "        vertical-align: middle;\n",
       "    }\n",
       "\n",
       "    .dataframe tbody tr th {\n",
       "        vertical-align: top;\n",
       "    }\n",
       "\n",
       "    .dataframe thead th {\n",
       "        text-align: right;\n",
       "    }\n",
       "</style>\n",
       "<table border=\"1\" class=\"dataframe\">\n",
       "  <thead>\n",
       "    <tr style=\"text-align: right;\">\n",
       "      <th></th>\n",
       "      <th>SRH</th>\n",
       "      <th>RBC</th>\n",
       "      <th>MI</th>\n",
       "    </tr>\n",
       "  </thead>\n",
       "  <tbody>\n",
       "    <tr>\n",
       "      <th>0</th>\n",
       "      <td>warner</td>\n",
       "      <td>virat</td>\n",
       "      <td>subbu</td>\n",
       "    </tr>\n",
       "    <tr>\n",
       "      <th>1</th>\n",
       "      <td>williamson</td>\n",
       "      <td>ABd</td>\n",
       "      <td>Rohit</td>\n",
       "    </tr>\n",
       "    <tr>\n",
       "      <th>2</th>\n",
       "      <td>bhuvi</td>\n",
       "      <td>subbu</td>\n",
       "      <td>Pandya</td>\n",
       "    </tr>\n",
       "    <tr>\n",
       "      <th>3</th>\n",
       "      <td>subbu</td>\n",
       "      <td>chahal</td>\n",
       "      <td>Malinga</td>\n",
       "    </tr>\n",
       "  </tbody>\n",
       "</table>\n",
       "</div>"
      ],
      "text/plain": [
       "          SRH     RBC       MI\n",
       "0      warner   virat    subbu\n",
       "1  williamson     ABd    Rohit\n",
       "2       bhuvi   subbu   Pandya\n",
       "3       subbu  chahal  Malinga"
      ]
     },
     "execution_count": 28,
     "metadata": {},
     "output_type": "execute_result"
    }
   ],
   "source": [
    "pi.fillna(value='subbu')       # fill null values in a df with name 'subbu'"
   ]
  },
  {
   "cell_type": "markdown",
   "id": "cf6e504d",
   "metadata": {},
   "source": [
    " # to fill only one clmn null values"
   ]
  },
  {
   "cell_type": "code",
   "execution_count": 29,
   "id": "ca25bea0",
   "metadata": {},
   "outputs": [
    {
     "data": {
      "text/plain": [
       "0     sundar\n",
       "1      Rohit\n",
       "2     Pandya\n",
       "3    Malinga\n",
       "Name: MI, dtype: object"
      ]
     },
     "execution_count": 29,
     "metadata": {},
     "output_type": "execute_result"
    }
   ],
   "source": [
    "pi['MI'].fillna(value='sundar')"
   ]
  },
  {
   "cell_type": "code",
   "execution_count": 30,
   "id": "a6e08a3e",
   "metadata": {},
   "outputs": [
    {
     "name": "stdout",
     "output_type": "stream",
     "text": [
      "None\n"
     ]
    }
   ],
   "source": [
    "print(pi['MI'].fillna(value='sundar',inplace=True))# inplace makes true check next one subbu not appearing"
   ]
  },
  {
   "cell_type": "code",
   "execution_count": 31,
   "id": "61197e53",
   "metadata": {},
   "outputs": [
    {
     "data": {
      "text/html": [
       "<div>\n",
       "<style scoped>\n",
       "    .dataframe tbody tr th:only-of-type {\n",
       "        vertical-align: middle;\n",
       "    }\n",
       "\n",
       "    .dataframe tbody tr th {\n",
       "        vertical-align: top;\n",
       "    }\n",
       "\n",
       "    .dataframe thead th {\n",
       "        text-align: right;\n",
       "    }\n",
       "</style>\n",
       "<table border=\"1\" class=\"dataframe\">\n",
       "  <thead>\n",
       "    <tr style=\"text-align: right;\">\n",
       "      <th></th>\n",
       "      <th>SRH</th>\n",
       "      <th>RBC</th>\n",
       "      <th>MI</th>\n",
       "    </tr>\n",
       "  </thead>\n",
       "  <tbody>\n",
       "    <tr>\n",
       "      <th>0</th>\n",
       "      <td>warner</td>\n",
       "      <td>virat</td>\n",
       "      <td>sundar</td>\n",
       "    </tr>\n",
       "    <tr>\n",
       "      <th>1</th>\n",
       "      <td>williamson</td>\n",
       "      <td>ABd</td>\n",
       "      <td>Rohit</td>\n",
       "    </tr>\n",
       "    <tr>\n",
       "      <th>2</th>\n",
       "      <td>bhuvi</td>\n",
       "      <td>NaN</td>\n",
       "      <td>Pandya</td>\n",
       "    </tr>\n",
       "    <tr>\n",
       "      <th>3</th>\n",
       "      <td>NaN</td>\n",
       "      <td>chahal</td>\n",
       "      <td>Malinga</td>\n",
       "    </tr>\n",
       "  </tbody>\n",
       "</table>\n",
       "</div>"
      ],
      "text/plain": [
       "          SRH     RBC       MI\n",
       "0      warner   virat   sundar\n",
       "1  williamson     ABd    Rohit\n",
       "2       bhuvi     NaN   Pandya\n",
       "3         NaN  chahal  Malinga"
      ]
     },
     "execution_count": 31,
     "metadata": {},
     "output_type": "execute_result"
    }
   ],
   "source": [
    "pi"
   ]
  },
  {
   "cell_type": "code",
   "execution_count": 32,
   "id": "b2f41517",
   "metadata": {},
   "outputs": [
    {
     "data": {
      "text/plain": [
       "0        warner\n",
       "1    williamson\n",
       "2         bhuvi\n",
       "3           NaN\n",
       "Name: SRH, dtype: object"
      ]
     },
     "execution_count": 32,
     "metadata": {},
     "output_type": "execute_result"
    }
   ],
   "source": [
    "pi['SRH']"
   ]
  },
  {
   "cell_type": "code",
   "execution_count": 33,
   "id": "8fa14120",
   "metadata": {},
   "outputs": [
    {
     "data": {
      "text/html": [
       "<div>\n",
       "<style scoped>\n",
       "    .dataframe tbody tr th:only-of-type {\n",
       "        vertical-align: middle;\n",
       "    }\n",
       "\n",
       "    .dataframe tbody tr th {\n",
       "        vertical-align: top;\n",
       "    }\n",
       "\n",
       "    .dataframe thead th {\n",
       "        text-align: right;\n",
       "    }\n",
       "</style>\n",
       "<table border=\"1\" class=\"dataframe\">\n",
       "  <thead>\n",
       "    <tr style=\"text-align: right;\">\n",
       "      <th></th>\n",
       "      <th>SRH</th>\n",
       "      <th>RBC</th>\n",
       "      <th>MI</th>\n",
       "    </tr>\n",
       "  </thead>\n",
       "  <tbody>\n",
       "    <tr>\n",
       "      <th>0</th>\n",
       "      <td>warner</td>\n",
       "      <td>virat</td>\n",
       "      <td>sundar</td>\n",
       "    </tr>\n",
       "    <tr>\n",
       "      <th>1</th>\n",
       "      <td>williamson</td>\n",
       "      <td>ABd</td>\n",
       "      <td>Rohit</td>\n",
       "    </tr>\n",
       "    <tr>\n",
       "      <th>2</th>\n",
       "      <td>bhuvi</td>\n",
       "      <td>NaN</td>\n",
       "      <td>Pandya</td>\n",
       "    </tr>\n",
       "    <tr>\n",
       "      <th>3</th>\n",
       "      <td>NaN</td>\n",
       "      <td>chahal</td>\n",
       "      <td>Malinga</td>\n",
       "    </tr>\n",
       "  </tbody>\n",
       "</table>\n",
       "</div>"
      ],
      "text/plain": [
       "          SRH     RBC       MI\n",
       "0      warner   virat   sundar\n",
       "1  williamson     ABd    Rohit\n",
       "2       bhuvi     NaN   Pandya\n",
       "3         NaN  chahal  Malinga"
      ]
     },
     "execution_count": 33,
     "metadata": {},
     "output_type": "execute_result"
    }
   ],
   "source": [
    "pi[0:]"
   ]
  },
  {
   "cell_type": "markdown",
   "id": "3acbbf38",
   "metadata": {},
   "source": [
    "#### like a list value accessing"
   ]
  },
  {
   "cell_type": "code",
   "execution_count": 34,
   "id": "130082fd",
   "metadata": {},
   "outputs": [
    {
     "data": {
      "text/html": [
       "<div>\n",
       "<style scoped>\n",
       "    .dataframe tbody tr th:only-of-type {\n",
       "        vertical-align: middle;\n",
       "    }\n",
       "\n",
       "    .dataframe tbody tr th {\n",
       "        vertical-align: top;\n",
       "    }\n",
       "\n",
       "    .dataframe thead th {\n",
       "        text-align: right;\n",
       "    }\n",
       "</style>\n",
       "<table border=\"1\" class=\"dataframe\">\n",
       "  <thead>\n",
       "    <tr style=\"text-align: right;\">\n",
       "      <th></th>\n",
       "      <th>SRH</th>\n",
       "      <th>RBC</th>\n",
       "      <th>MI</th>\n",
       "    </tr>\n",
       "  </thead>\n",
       "  <tbody>\n",
       "    <tr>\n",
       "      <th>1</th>\n",
       "      <td>williamson</td>\n",
       "      <td>ABd</td>\n",
       "      <td>Rohit</td>\n",
       "    </tr>\n",
       "    <tr>\n",
       "      <th>3</th>\n",
       "      <td>NaN</td>\n",
       "      <td>chahal</td>\n",
       "      <td>Malinga</td>\n",
       "    </tr>\n",
       "  </tbody>\n",
       "</table>\n",
       "</div>"
      ],
      "text/plain": [
       "          SRH     RBC       MI\n",
       "1  williamson     ABd    Rohit\n",
       "3         NaN  chahal  Malinga"
      ]
     },
     "execution_count": 34,
     "metadata": {},
     "output_type": "execute_result"
    }
   ],
   "source": [
    "pi[1:4:2] "
   ]
  },
  {
   "cell_type": "markdown",
   "id": "409fed91",
   "metadata": {},
   "source": [
    "### advanced index"
   ]
  },
  {
   "cell_type": "code",
   "execution_count": 35,
   "id": "dcb16de7",
   "metadata": {},
   "outputs": [
    {
     "data": {
      "text/html": [
       "<div>\n",
       "<style scoped>\n",
       "    .dataframe tbody tr th:only-of-type {\n",
       "        vertical-align: middle;\n",
       "    }\n",
       "\n",
       "    .dataframe tbody tr th {\n",
       "        vertical-align: top;\n",
       "    }\n",
       "\n",
       "    .dataframe thead th {\n",
       "        text-align: right;\n",
       "    }\n",
       "</style>\n",
       "<table border=\"1\" class=\"dataframe\">\n",
       "  <thead>\n",
       "    <tr style=\"text-align: right;\">\n",
       "      <th></th>\n",
       "      <th>SRH</th>\n",
       "      <th>MI</th>\n",
       "      <th>RBC</th>\n",
       "    </tr>\n",
       "  </thead>\n",
       "  <tbody>\n",
       "    <tr>\n",
       "      <th>0</th>\n",
       "      <td>warner</td>\n",
       "      <td>sundar</td>\n",
       "      <td>virat</td>\n",
       "    </tr>\n",
       "    <tr>\n",
       "      <th>3</th>\n",
       "      <td>NaN</td>\n",
       "      <td>Malinga</td>\n",
       "      <td>chahal</td>\n",
       "    </tr>\n",
       "    <tr>\n",
       "      <th>2</th>\n",
       "      <td>bhuvi</td>\n",
       "      <td>Pandya</td>\n",
       "      <td>NaN</td>\n",
       "    </tr>\n",
       "  </tbody>\n",
       "</table>\n",
       "</div>"
      ],
      "text/plain": [
       "      SRH       MI     RBC\n",
       "0  warner   sundar   virat\n",
       "3     NaN  Malinga  chahal\n",
       "2   bhuvi   Pandya     NaN"
      ]
     },
     "execution_count": 35,
     "metadata": {},
     "output_type": "execute_result"
    }
   ],
   "source": [
    "pi.loc[[0,3,2],['SRH','MI','RBC']] #here index default so no need to use '' in 0 3 2       ADVANCED Indexing"
   ]
  },
  {
   "cell_type": "code",
   "execution_count": 36,
   "id": "796afa01",
   "metadata": {},
   "outputs": [],
   "source": [
    " #dfname.columnname.value_counts()"
   ]
  },
  {
   "cell_type": "code",
   "execution_count": 37,
   "id": "5aa67f03",
   "metadata": {},
   "outputs": [
    {
     "name": "stdout",
     "output_type": "stream",
     "text": [
      "          SRH    RBC      MI\n",
      "0      warner  virat  sundar\n",
      "1  williamson    ABd   Rohit\n",
      "          SRH     RBC       MI\n",
      "0      warner   virat   sundar\n",
      "1  williamson     ABd    Rohit\n",
      "2       bhuvi     NaN   Pandya\n",
      "3         NaN  chahal  Malinga\n"
     ]
    }
   ],
   "source": [
    "print(pi.dropna())\n",
    "print(pi)# prints with out null values rows only"
   ]
  },
  {
   "cell_type": "markdown",
   "id": "b3f6548f",
   "metadata": {},
   "source": [
    "# permanent delete null rows and print not null df"
   ]
  },
  {
   "cell_type": "code",
   "execution_count": 38,
   "id": "7ac1c498",
   "metadata": {},
   "outputs": [],
   "source": [
    "pi.dropna(inplace=True)"
   ]
  },
  {
   "cell_type": "code",
   "execution_count": 39,
   "id": "e15a6db2",
   "metadata": {},
   "outputs": [
    {
     "data": {
      "text/plain": [
       "(2, 3)"
      ]
     },
     "execution_count": 39,
     "metadata": {},
     "output_type": "execute_result"
    }
   ],
   "source": [
    "pi.shape"
   ]
  },
  {
   "cell_type": "code",
   "execution_count": 40,
   "id": "6d9e6f9a",
   "metadata": {},
   "outputs": [
    {
     "data": {
      "text/html": [
       "<div>\n",
       "<style scoped>\n",
       "    .dataframe tbody tr th:only-of-type {\n",
       "        vertical-align: middle;\n",
       "    }\n",
       "\n",
       "    .dataframe tbody tr th {\n",
       "        vertical-align: top;\n",
       "    }\n",
       "\n",
       "    .dataframe thead th {\n",
       "        text-align: right;\n",
       "    }\n",
       "</style>\n",
       "<table border=\"1\" class=\"dataframe\">\n",
       "  <thead>\n",
       "    <tr style=\"text-align: right;\">\n",
       "      <th></th>\n",
       "      <th>SRH</th>\n",
       "      <th>RBC</th>\n",
       "      <th>MI</th>\n",
       "    </tr>\n",
       "  </thead>\n",
       "  <tbody>\n",
       "    <tr>\n",
       "      <th>0</th>\n",
       "      <td>warner</td>\n",
       "      <td>virat</td>\n",
       "      <td>sundar</td>\n",
       "    </tr>\n",
       "    <tr>\n",
       "      <th>1</th>\n",
       "      <td>williamson</td>\n",
       "      <td>ABd</td>\n",
       "      <td>Rohit</td>\n",
       "    </tr>\n",
       "  </tbody>\n",
       "</table>\n",
       "</div>"
      ],
      "text/plain": [
       "          SRH    RBC      MI\n",
       "0      warner  virat  sundar\n",
       "1  williamson    ABd   Rohit"
      ]
     },
     "execution_count": 40,
     "metadata": {},
     "output_type": "execute_result"
    }
   ],
   "source": [
    "pi"
   ]
  },
  {
   "cell_type": "markdown",
   "id": "880c91d6",
   "metadata": {},
   "source": [
    "## df from array"
   ]
  },
  {
   "cell_type": "code",
   "execution_count": 41,
   "id": "bc9024d3",
   "metadata": {},
   "outputs": [
    {
     "data": {
      "text/html": [
       "<div>\n",
       "<style scoped>\n",
       "    .dataframe tbody tr th:only-of-type {\n",
       "        vertical-align: middle;\n",
       "    }\n",
       "\n",
       "    .dataframe tbody tr th {\n",
       "        vertical-align: top;\n",
       "    }\n",
       "\n",
       "    .dataframe thead th {\n",
       "        text-align: right;\n",
       "    }\n",
       "</style>\n",
       "<table border=\"1\" class=\"dataframe\">\n",
       "  <thead>\n",
       "    <tr style=\"text-align: right;\">\n",
       "      <th></th>\n",
       "      <th>0</th>\n",
       "      <th>1</th>\n",
       "      <th>2</th>\n",
       "    </tr>\n",
       "  </thead>\n",
       "  <tbody>\n",
       "    <tr>\n",
       "      <th>0</th>\n",
       "      <td>subbu</td>\n",
       "      <td>sun</td>\n",
       "      <td>moon</td>\n",
       "    </tr>\n",
       "    <tr>\n",
       "      <th>1</th>\n",
       "      <td>32</td>\n",
       "      <td>45</td>\n",
       "      <td>65</td>\n",
       "    </tr>\n",
       "  </tbody>\n",
       "</table>\n",
       "</div>"
      ],
      "text/plain": [
       "       0    1     2\n",
       "0  subbu  sun  moon\n",
       "1     32   45    65"
      ]
     },
     "execution_count": 41,
     "metadata": {},
     "output_type": "execute_result"
    }
   ],
   "source": [
    "a=[['subbu','sun','moon'],[32,45,65]]\n",
    "ab=p.DataFrame(data=a)\n",
    "ab"
   ]
  },
  {
   "cell_type": "code",
   "execution_count": 42,
   "id": "763cf750",
   "metadata": {},
   "outputs": [
    {
     "data": {
      "text/plain": [
       "array([['subbu', '32'],\n",
       "       ['sun', '45'],\n",
       "       ['moon', '65']], dtype='<U11')"
      ]
     },
     "execution_count": 42,
     "metadata": {},
     "output_type": "execute_result"
    }
   ],
   "source": [
    "import numpy as n\n",
    "aa=n.array(a).T\n",
    "aa"
   ]
  },
  {
   "cell_type": "code",
   "execution_count": 43,
   "id": "9a21c657",
   "metadata": {},
   "outputs": [
    {
     "data": {
      "text/html": [
       "<div>\n",
       "<style scoped>\n",
       "    .dataframe tbody tr th:only-of-type {\n",
       "        vertical-align: middle;\n",
       "    }\n",
       "\n",
       "    .dataframe tbody tr th {\n",
       "        vertical-align: top;\n",
       "    }\n",
       "\n",
       "    .dataframe thead th {\n",
       "        text-align: right;\n",
       "    }\n",
       "</style>\n",
       "<table border=\"1\" class=\"dataframe\">\n",
       "  <thead>\n",
       "    <tr style=\"text-align: right;\">\n",
       "      <th></th>\n",
       "      <th>0</th>\n",
       "      <th>1</th>\n",
       "    </tr>\n",
       "  </thead>\n",
       "  <tbody>\n",
       "    <tr>\n",
       "      <th>0</th>\n",
       "      <td>subbu</td>\n",
       "      <td>32</td>\n",
       "    </tr>\n",
       "    <tr>\n",
       "      <th>1</th>\n",
       "      <td>sun</td>\n",
       "      <td>45</td>\n",
       "    </tr>\n",
       "    <tr>\n",
       "      <th>2</th>\n",
       "      <td>moon</td>\n",
       "      <td>65</td>\n",
       "    </tr>\n",
       "  </tbody>\n",
       "</table>\n",
       "</div>"
      ],
      "text/plain": [
       "       0   1\n",
       "0  subbu  32\n",
       "1    sun  45\n",
       "2   moon  65"
      ]
     },
     "execution_count": 43,
     "metadata": {},
     "output_type": "execute_result"
    }
   ],
   "source": [
    "ab=p.DataFrame(data=aa)\n",
    "ab"
   ]
  },
  {
   "cell_type": "code",
   "execution_count": 44,
   "id": "f1bd5e7e",
   "metadata": {},
   "outputs": [
    {
     "name": "stdout",
     "output_type": "stream",
     "text": [
      "        43     433   32 \n",
      "sun    blue  green  None\n",
      "earth  dskf     dk   dkf\n",
      "plut    dkf    dfw   dfj\n"
     ]
    }
   ],
   "source": [
    "a=p.DataFrame(data=[['blue','green',],['dskf','dk','dkf'],['dkf','dfw','dfj']],index=['sun','earth','plut'],columns=[43,433,32])\n",
    "print(a)"
   ]
  },
  {
   "cell_type": "markdown",
   "id": "9eaff50a",
   "metadata": {},
   "source": [
    "# adding a new row and clmn to df"
   ]
  },
  {
   "cell_type": "code",
   "execution_count": 45,
   "id": "bf359cc0",
   "metadata": {},
   "outputs": [],
   "source": [
    "a[89]=['pink','yellow','dark']"
   ]
  },
  {
   "cell_type": "code",
   "execution_count": 46,
   "id": "21fbf424",
   "metadata": {},
   "outputs": [
    {
     "data": {
      "text/html": [
       "<div>\n",
       "<style scoped>\n",
       "    .dataframe tbody tr th:only-of-type {\n",
       "        vertical-align: middle;\n",
       "    }\n",
       "\n",
       "    .dataframe tbody tr th {\n",
       "        vertical-align: top;\n",
       "    }\n",
       "\n",
       "    .dataframe thead th {\n",
       "        text-align: right;\n",
       "    }\n",
       "</style>\n",
       "<table border=\"1\" class=\"dataframe\">\n",
       "  <thead>\n",
       "    <tr style=\"text-align: right;\">\n",
       "      <th></th>\n",
       "      <th>43</th>\n",
       "      <th>433</th>\n",
       "      <th>32</th>\n",
       "      <th>89</th>\n",
       "    </tr>\n",
       "  </thead>\n",
       "  <tbody>\n",
       "    <tr>\n",
       "      <th>sun</th>\n",
       "      <td>blue</td>\n",
       "      <td>green</td>\n",
       "      <td>None</td>\n",
       "      <td>pink</td>\n",
       "    </tr>\n",
       "    <tr>\n",
       "      <th>earth</th>\n",
       "      <td>dskf</td>\n",
       "      <td>dk</td>\n",
       "      <td>dkf</td>\n",
       "      <td>yellow</td>\n",
       "    </tr>\n",
       "    <tr>\n",
       "      <th>plut</th>\n",
       "      <td>dkf</td>\n",
       "      <td>dfw</td>\n",
       "      <td>dfj</td>\n",
       "      <td>dark</td>\n",
       "    </tr>\n",
       "  </tbody>\n",
       "</table>\n",
       "</div>"
      ],
      "text/plain": [
       "        43     433   32      89 \n",
       "sun    blue  green  None    pink\n",
       "earth  dskf     dk   dkf  yellow\n",
       "plut    dkf    dfw   dfj    dark"
      ]
     },
     "execution_count": 46,
     "metadata": {},
     "output_type": "execute_result"
    }
   ],
   "source": [
    "a"
   ]
  },
  {
   "cell_type": "code",
   "execution_count": 47,
   "id": "cffca6b7",
   "metadata": {},
   "outputs": [
    {
     "name": "stderr",
     "output_type": "stream",
     "text": [
      "C:\\Users\\stanneeru\\AppData\\Local\\Temp\\ipykernel_3420\\1508287664.py:1: FutureWarning: The frame.append method is deprecated and will be removed from pandas in a future version. Use pandas.concat instead.\n",
      "  a.append(p.Series(data=['dks','dskf','dfae','kdsk'],index=a.columns,name='mars'))\n"
     ]
    },
    {
     "data": {
      "text/html": [
       "<div>\n",
       "<style scoped>\n",
       "    .dataframe tbody tr th:only-of-type {\n",
       "        vertical-align: middle;\n",
       "    }\n",
       "\n",
       "    .dataframe tbody tr th {\n",
       "        vertical-align: top;\n",
       "    }\n",
       "\n",
       "    .dataframe thead th {\n",
       "        text-align: right;\n",
       "    }\n",
       "</style>\n",
       "<table border=\"1\" class=\"dataframe\">\n",
       "  <thead>\n",
       "    <tr style=\"text-align: right;\">\n",
       "      <th></th>\n",
       "      <th>43</th>\n",
       "      <th>433</th>\n",
       "      <th>32</th>\n",
       "      <th>89</th>\n",
       "    </tr>\n",
       "  </thead>\n",
       "  <tbody>\n",
       "    <tr>\n",
       "      <th>sun</th>\n",
       "      <td>blue</td>\n",
       "      <td>green</td>\n",
       "      <td>None</td>\n",
       "      <td>pink</td>\n",
       "    </tr>\n",
       "    <tr>\n",
       "      <th>earth</th>\n",
       "      <td>dskf</td>\n",
       "      <td>dk</td>\n",
       "      <td>dkf</td>\n",
       "      <td>yellow</td>\n",
       "    </tr>\n",
       "    <tr>\n",
       "      <th>plut</th>\n",
       "      <td>dkf</td>\n",
       "      <td>dfw</td>\n",
       "      <td>dfj</td>\n",
       "      <td>dark</td>\n",
       "    </tr>\n",
       "    <tr>\n",
       "      <th>mars</th>\n",
       "      <td>dks</td>\n",
       "      <td>dskf</td>\n",
       "      <td>dfae</td>\n",
       "      <td>kdsk</td>\n",
       "    </tr>\n",
       "  </tbody>\n",
       "</table>\n",
       "</div>"
      ],
      "text/plain": [
       "        43     433   32      89 \n",
       "sun    blue  green  None    pink\n",
       "earth  dskf     dk   dkf  yellow\n",
       "plut    dkf    dfw   dfj    dark\n",
       "mars    dks   dskf  dfae    kdsk"
      ]
     },
     "execution_count": 47,
     "metadata": {},
     "output_type": "execute_result"
    }
   ],
   "source": [
    "a.append(p.Series(data=['dks','dskf','dfae','kdsk'],index=a.columns,name='mars'))"
   ]
  },
  {
   "cell_type": "code",
   "execution_count": 48,
   "id": "6c2ad6fc",
   "metadata": {},
   "outputs": [
    {
     "name": "stdout",
     "output_type": "stream",
     "text": [
      "        43     433   32      89 \n",
      "sun    blue  green  None    pink\n",
      "earth  dskf     dk   dkf  yellow\n",
      "plut    dkf    dfw   dfj    dark\n",
      "venus   dkf    akf  dsfw   klasl\n"
     ]
    },
    {
     "name": "stderr",
     "output_type": "stream",
     "text": [
      "C:\\Users\\stanneeru\\AppData\\Local\\Temp\\ipykernel_3420\\3385713140.py:2: FutureWarning: The frame.append method is deprecated and will be removed from pandas in a future version. Use pandas.concat instead.\n",
      "  g=a.append(p.DataFrame([da],index=['venus'],columns=a.columns))\n"
     ]
    }
   ],
   "source": [
    "\n",
    "da=['dkf','akf','dsfw','klasl']\n",
    "g=a.append(p.DataFrame([da],index=['venus'],columns=a.columns))\n",
    "print(g)"
   ]
  },
  {
   "cell_type": "markdown",
   "id": "18afdf8d",
   "metadata": {},
   "source": [
    "# deleting a clmn n row"
   ]
  },
  {
   "cell_type": "code",
   "execution_count": 49,
   "id": "0f64c428",
   "metadata": {},
   "outputs": [],
   "source": [
    "a.drop(columns=32,inplace=True) #inplc for the prmenant"
   ]
  },
  {
   "cell_type": "code",
   "execution_count": 50,
   "id": "a63a23d9",
   "metadata": {},
   "outputs": [
    {
     "data": {
      "text/html": [
       "<div>\n",
       "<style scoped>\n",
       "    .dataframe tbody tr th:only-of-type {\n",
       "        vertical-align: middle;\n",
       "    }\n",
       "\n",
       "    .dataframe tbody tr th {\n",
       "        vertical-align: top;\n",
       "    }\n",
       "\n",
       "    .dataframe thead th {\n",
       "        text-align: right;\n",
       "    }\n",
       "</style>\n",
       "<table border=\"1\" class=\"dataframe\">\n",
       "  <thead>\n",
       "    <tr style=\"text-align: right;\">\n",
       "      <th></th>\n",
       "      <th>43</th>\n",
       "      <th>433</th>\n",
       "      <th>89</th>\n",
       "    </tr>\n",
       "  </thead>\n",
       "  <tbody>\n",
       "    <tr>\n",
       "      <th>sun</th>\n",
       "      <td>blue</td>\n",
       "      <td>green</td>\n",
       "      <td>pink</td>\n",
       "    </tr>\n",
       "    <tr>\n",
       "      <th>earth</th>\n",
       "      <td>dskf</td>\n",
       "      <td>dk</td>\n",
       "      <td>yellow</td>\n",
       "    </tr>\n",
       "    <tr>\n",
       "      <th>plut</th>\n",
       "      <td>dkf</td>\n",
       "      <td>dfw</td>\n",
       "      <td>dark</td>\n",
       "    </tr>\n",
       "  </tbody>\n",
       "</table>\n",
       "</div>"
      ],
      "text/plain": [
       "        43     433     89 \n",
       "sun    blue  green    pink\n",
       "earth  dskf     dk  yellow\n",
       "plut    dkf    dfw    dark"
      ]
     },
     "execution_count": 50,
     "metadata": {},
     "output_type": "execute_result"
    }
   ],
   "source": [
    "a"
   ]
  },
  {
   "cell_type": "code",
   "execution_count": 51,
   "id": "eec2bdf6",
   "metadata": {},
   "outputs": [
    {
     "data": {
      "text/html": [
       "<div>\n",
       "<style scoped>\n",
       "    .dataframe tbody tr th:only-of-type {\n",
       "        vertical-align: middle;\n",
       "    }\n",
       "\n",
       "    .dataframe tbody tr th {\n",
       "        vertical-align: top;\n",
       "    }\n",
       "\n",
       "    .dataframe thead th {\n",
       "        text-align: right;\n",
       "    }\n",
       "</style>\n",
       "<table border=\"1\" class=\"dataframe\">\n",
       "  <thead>\n",
       "    <tr style=\"text-align: right;\">\n",
       "      <th></th>\n",
       "      <th>43</th>\n",
       "      <th>433</th>\n",
       "      <th>89</th>\n",
       "    </tr>\n",
       "  </thead>\n",
       "  <tbody>\n",
       "    <tr>\n",
       "      <th>sun</th>\n",
       "      <td>blue</td>\n",
       "      <td>green</td>\n",
       "      <td>pink</td>\n",
       "    </tr>\n",
       "    <tr>\n",
       "      <th>earth</th>\n",
       "      <td>dskf</td>\n",
       "      <td>dk</td>\n",
       "      <td>yellow</td>\n",
       "    </tr>\n",
       "  </tbody>\n",
       "</table>\n",
       "</div>"
      ],
      "text/plain": [
       "        43     433     89 \n",
       "sun    blue  green    pink\n",
       "earth  dskf     dk  yellow"
      ]
     },
     "execution_count": 51,
     "metadata": {},
     "output_type": "execute_result"
    }
   ],
   "source": [
    "a.drop('plut')  # deleting the rows "
   ]
  },
  {
   "cell_type": "markdown",
   "id": "8b9fdaad",
   "metadata": {},
   "source": [
    "# access"
   ]
  },
  {
   "cell_type": "code",
   "execution_count": 52,
   "id": "4da18221",
   "metadata": {},
   "outputs": [
    {
     "data": {
      "text/plain": [
       "43      blue\n",
       "433    green\n",
       "89      pink\n",
       "Name: sun, dtype: object"
      ]
     },
     "execution_count": 52,
     "metadata": {},
     "output_type": "execute_result"
    }
   ],
   "source": [
    "a.loc['sun']"
   ]
  },
  {
   "cell_type": "code",
   "execution_count": 53,
   "id": "53024166",
   "metadata": {},
   "outputs": [
    {
     "data": {
      "text/plain": [
       "'green'"
      ]
     },
     "execution_count": 53,
     "metadata": {},
     "output_type": "execute_result"
    }
   ],
   "source": [
    "a.loc['sun',433]"
   ]
  },
  {
   "cell_type": "code",
   "execution_count": 54,
   "id": "01fee0aa",
   "metadata": {},
   "outputs": [
    {
     "data": {
      "text/plain": [
       "sun      green\n",
       "earth       dk\n",
       "Name: 433, dtype: object"
      ]
     },
     "execution_count": 54,
     "metadata": {},
     "output_type": "execute_result"
    }
   ],
   "source": [
    "a.loc[['sun','earth'],433]"
   ]
  },
  {
   "cell_type": "code",
   "execution_count": 55,
   "id": "c7c9f6c0",
   "metadata": {},
   "outputs": [
    {
     "data": {
      "text/plain": [
       "89    yellow\n",
       "43      dskf\n",
       "Name: earth, dtype: object"
      ]
     },
     "execution_count": 55,
     "metadata": {},
     "output_type": "execute_result"
    }
   ],
   "source": [
    "a.loc['earth',[89,43]]"
   ]
  },
  {
   "cell_type": "markdown",
   "id": "203bdd41",
   "metadata": {},
   "source": [
    "## to access 0,1,2 like default index in list we use iloc "
   ]
  },
  {
   "cell_type": "code",
   "execution_count": 56,
   "id": "50f98d9b",
   "metadata": {},
   "outputs": [
    {
     "name": "stdout",
     "output_type": "stream",
     "text": [
      "        43     433     89 \n",
      "sun    blue  green    pink\n",
      "earth  dskf     dk  yellow\n",
      "plut    dkf    dfw    dark\n",
      "43      blue\n",
      "433    green\n",
      "89      pink\n",
      "Name: sun, dtype: object\n",
      "       43     433   89 \n",
      "sun   blue  green  pink\n",
      "plut   dkf    dfw  dark\n",
      "        43     433     89 \n",
      "sun    blue  green    pink\n",
      "earth  dskf     dk  yellow\n",
      "plut    dkf    dfw    dark\n"
     ]
    }
   ],
   "source": [
    "print(a)\n",
    "print(a.iloc[0])\n",
    "print(a.iloc[[0,2]]) # 0 and 2 rows are printing\n",
    "print(a.iloc[0:3])"
   ]
  },
  {
   "cell_type": "code",
   "execution_count": 57,
   "id": "dc65bd8e",
   "metadata": {},
   "outputs": [
    {
     "name": "stdout",
     "output_type": "stream",
     "text": [
      "        43     433\n",
      "sun    blue  green\n",
      "earth  dskf     dk\n",
      "plut    dkf    dfw full df\n",
      "         43      89\n",
      "sun    blue    pink\n",
      "earth  dskf  yellow\n",
      "plut    dkf    dark\n"
     ]
    }
   ],
   "source": [
    "print(a.iloc[:,0:2],\"full df\")  # iloc used for accessing data by the index model only \n",
    "print(a.iloc[:,[0,2]])   ### iloc index accessing values here 0 indexed clmn is 43 and 2 indexed clmn is 89"
   ]
  },
  {
   "cell_type": "markdown",
   "id": "a4194ad7",
   "metadata": {},
   "source": [
    "## adding a new cloumn to df by condition"
   ]
  },
  {
   "cell_type": "code",
   "execution_count": 58,
   "id": "7021486f",
   "metadata": {},
   "outputs": [
    {
     "data": {
      "text/html": [
       "<div>\n",
       "<style scoped>\n",
       "    .dataframe tbody tr th:only-of-type {\n",
       "        vertical-align: middle;\n",
       "    }\n",
       "\n",
       "    .dataframe tbody tr th {\n",
       "        vertical-align: top;\n",
       "    }\n",
       "\n",
       "    .dataframe thead th {\n",
       "        text-align: right;\n",
       "    }\n",
       "</style>\n",
       "<table border=\"1\" class=\"dataframe\">\n",
       "  <thead>\n",
       "    <tr style=\"text-align: right;\">\n",
       "      <th></th>\n",
       "      <th>su</th>\n",
       "      <th>bb</th>\n",
       "      <th>u</th>\n",
       "    </tr>\n",
       "  </thead>\n",
       "  <tbody>\n",
       "    <tr>\n",
       "      <th>ma</th>\n",
       "      <td>33</td>\n",
       "      <td>43</td>\n",
       "      <td>24</td>\n",
       "    </tr>\n",
       "    <tr>\n",
       "      <th>uj</th>\n",
       "      <td>43</td>\n",
       "      <td>56</td>\n",
       "      <td>67</td>\n",
       "    </tr>\n",
       "    <tr>\n",
       "      <th>d</th>\n",
       "      <td>34</td>\n",
       "      <td>56</td>\n",
       "      <td>8</td>\n",
       "    </tr>\n",
       "  </tbody>\n",
       "</table>\n",
       "</div>"
      ],
      "text/plain": [
       "    su  bb   u\n",
       "ma  33  43  24\n",
       "uj  43  56  67\n",
       "d   34  56   8"
      ]
     },
     "execution_count": 58,
     "metadata": {},
     "output_type": "execute_result"
    }
   ],
   "source": [
    "import pandas as p\n",
    "aa=p.DataFrame(data=[[33,43,24],[43,56,67],[34,56,8]],columns=['su','bb','u'],index=['ma','uj','d'])\n",
    "aa"
   ]
  },
  {
   "cell_type": "code",
   "execution_count": 59,
   "id": "a2fd0682",
   "metadata": {},
   "outputs": [
    {
     "data": {
      "text/html": [
       "<div>\n",
       "<style scoped>\n",
       "    .dataframe tbody tr th:only-of-type {\n",
       "        vertical-align: middle;\n",
       "    }\n",
       "\n",
       "    .dataframe tbody tr th {\n",
       "        vertical-align: top;\n",
       "    }\n",
       "\n",
       "    .dataframe thead th {\n",
       "        text-align: right;\n",
       "    }\n",
       "</style>\n",
       "<table border=\"1\" class=\"dataframe\">\n",
       "  <thead>\n",
       "    <tr style=\"text-align: right;\">\n",
       "      <th></th>\n",
       "      <th>su</th>\n",
       "      <th>bb</th>\n",
       "      <th>u</th>\n",
       "      <th>new_clmn</th>\n",
       "    </tr>\n",
       "  </thead>\n",
       "  <tbody>\n",
       "    <tr>\n",
       "      <th>ma</th>\n",
       "      <td>33</td>\n",
       "      <td>43</td>\n",
       "      <td>24</td>\n",
       "      <td>duper</td>\n",
       "    </tr>\n",
       "    <tr>\n",
       "      <th>uj</th>\n",
       "      <td>43</td>\n",
       "      <td>56</td>\n",
       "      <td>67</td>\n",
       "      <td>superb</td>\n",
       "    </tr>\n",
       "    <tr>\n",
       "      <th>d</th>\n",
       "      <td>34</td>\n",
       "      <td>56</td>\n",
       "      <td>8</td>\n",
       "      <td>duper</td>\n",
       "    </tr>\n",
       "  </tbody>\n",
       "</table>\n",
       "</div>"
      ],
      "text/plain": [
       "    su  bb   u new_clmn\n",
       "ma  33  43  24    duper\n",
       "uj  43  56  67   superb\n",
       "d   34  56   8    duper"
      ]
     },
     "execution_count": 59,
     "metadata": {},
     "output_type": "execute_result"
    }
   ],
   "source": [
    "import numpy as n \n",
    "aa['new_clmn']=n.where(aa['u']>33,'superb','duper') #if aa[u]>33 print super else dupe \n",
    "aa"
   ]
  },
  {
   "cell_type": "code",
   "execution_count": 60,
   "id": "092f81f6",
   "metadata": {},
   "outputs": [
    {
     "data": {
      "text/html": [
       "<div>\n",
       "<style scoped>\n",
       "    .dataframe tbody tr th:only-of-type {\n",
       "        vertical-align: middle;\n",
       "    }\n",
       "\n",
       "    .dataframe tbody tr th {\n",
       "        vertical-align: top;\n",
       "    }\n",
       "\n",
       "    .dataframe thead th {\n",
       "        text-align: right;\n",
       "    }\n",
       "</style>\n",
       "<table border=\"1\" class=\"dataframe\">\n",
       "  <thead>\n",
       "    <tr style=\"text-align: right;\">\n",
       "      <th></th>\n",
       "      <th>su</th>\n",
       "      <th>bb</th>\n",
       "      <th>u</th>\n",
       "      <th>new_clmn</th>\n",
       "      <th>main</th>\n",
       "    </tr>\n",
       "  </thead>\n",
       "  <tbody>\n",
       "    <tr>\n",
       "      <th>ma</th>\n",
       "      <td>33</td>\n",
       "      <td>43</td>\n",
       "      <td>24</td>\n",
       "      <td>duper</td>\n",
       "      <td>500</td>\n",
       "    </tr>\n",
       "    <tr>\n",
       "      <th>uj</th>\n",
       "      <td>43</td>\n",
       "      <td>56</td>\n",
       "      <td>67</td>\n",
       "      <td>superb</td>\n",
       "      <td>500</td>\n",
       "    </tr>\n",
       "    <tr>\n",
       "      <th>d</th>\n",
       "      <td>34</td>\n",
       "      <td>56</td>\n",
       "      <td>8</td>\n",
       "      <td>duper</td>\n",
       "      <td>500</td>\n",
       "    </tr>\n",
       "  </tbody>\n",
       "</table>\n",
       "</div>"
      ],
      "text/plain": [
       "    su  bb   u new_clmn  main\n",
       "ma  33  43  24    duper   500\n",
       "uj  43  56  67   superb   500\n",
       "d   34  56   8    duper   500"
      ]
     },
     "execution_count": 60,
     "metadata": {},
     "output_type": "execute_result"
    }
   ],
   "source": [
    "aa['main']=n.array(500)   \n",
    "aa"
   ]
  },
  {
   "cell_type": "code",
   "execution_count": 61,
   "id": "5edb9ec1",
   "metadata": {},
   "outputs": [
    {
     "data": {
      "text/html": [
       "<div>\n",
       "<style scoped>\n",
       "    .dataframe tbody tr th:only-of-type {\n",
       "        vertical-align: middle;\n",
       "    }\n",
       "\n",
       "    .dataframe tbody tr th {\n",
       "        vertical-align: top;\n",
       "    }\n",
       "\n",
       "    .dataframe thead th {\n",
       "        text-align: right;\n",
       "    }\n",
       "</style>\n",
       "<table border=\"1\" class=\"dataframe\">\n",
       "  <thead>\n",
       "    <tr style=\"text-align: right;\">\n",
       "      <th></th>\n",
       "      <th>su</th>\n",
       "      <th>bb</th>\n",
       "      <th>u</th>\n",
       "      <th>new_clmn</th>\n",
       "      <th>main</th>\n",
       "      <th>mass</th>\n",
       "    </tr>\n",
       "  </thead>\n",
       "  <tbody>\n",
       "    <tr>\n",
       "      <th>ma</th>\n",
       "      <td>33</td>\n",
       "      <td>43</td>\n",
       "      <td>24</td>\n",
       "      <td>duper</td>\n",
       "      <td>500</td>\n",
       "      <td>not_eligible</td>\n",
       "    </tr>\n",
       "    <tr>\n",
       "      <th>uj</th>\n",
       "      <td>43</td>\n",
       "      <td>56</td>\n",
       "      <td>67</td>\n",
       "      <td>superb</td>\n",
       "      <td>500</td>\n",
       "      <td>eligible</td>\n",
       "    </tr>\n",
       "    <tr>\n",
       "      <th>d</th>\n",
       "      <td>34</td>\n",
       "      <td>56</td>\n",
       "      <td>8</td>\n",
       "      <td>duper</td>\n",
       "      <td>500</td>\n",
       "      <td>eligible</td>\n",
       "    </tr>\n",
       "  </tbody>\n",
       "</table>\n",
       "</div>"
      ],
      "text/plain": [
       "    su  bb   u new_clmn  main          mass\n",
       "ma  33  43  24    duper   500  not_eligible\n",
       "uj  43  56  67   superb   500      eligible\n",
       "d   34  56   8    duper   500      eligible"
      ]
     },
     "execution_count": 61,
     "metadata": {},
     "output_type": "execute_result"
    }
   ],
   "source": [
    "def a(b):\n",
    "    c=n.where( b>33,'eligible','not_eligible')               ## important\n",
    "    return c\n",
    "aa['mass']=a(aa['su'])\n",
    "aa"
   ]
  },
  {
   "cell_type": "markdown",
   "id": "05e103bc",
   "metadata": {},
   "source": [
    "# converting a datetime clmn into a string type to do operations with it"
   ]
  },
  {
   "cell_type": "code",
   "execution_count": 62,
   "id": "98ba9e63",
   "metadata": {},
   "outputs": [],
   "source": [
    "# df['date_time']=pands.to_datetime(df['date_time'])"
   ]
  },
  {
   "cell_type": "code",
   "execution_count": 63,
   "id": "a750291e",
   "metadata": {},
   "outputs": [
    {
     "data": {
      "text/html": [
       "<div>\n",
       "<style scoped>\n",
       "    .dataframe tbody tr th:only-of-type {\n",
       "        vertical-align: middle;\n",
       "    }\n",
       "\n",
       "    .dataframe tbody tr th {\n",
       "        vertical-align: top;\n",
       "    }\n",
       "\n",
       "    .dataframe thead th {\n",
       "        text-align: right;\n",
       "    }\n",
       "</style>\n",
       "<table border=\"1\" class=\"dataframe\">\n",
       "  <thead>\n",
       "    <tr style=\"text-align: right;\">\n",
       "      <th></th>\n",
       "      <th>su</th>\n",
       "      <th>bb</th>\n",
       "      <th>u</th>\n",
       "      <th>new_clmn</th>\n",
       "      <th>main</th>\n",
       "      <th>mass</th>\n",
       "    </tr>\n",
       "  </thead>\n",
       "  <tbody>\n",
       "    <tr>\n",
       "      <th>ma</th>\n",
       "      <td>33</td>\n",
       "      <td>43</td>\n",
       "      <td>24</td>\n",
       "      <td>duper</td>\n",
       "      <td>500</td>\n",
       "      <td>not_eligible</td>\n",
       "    </tr>\n",
       "    <tr>\n",
       "      <th>uj</th>\n",
       "      <td>43</td>\n",
       "      <td>56</td>\n",
       "      <td>67</td>\n",
       "      <td>superb</td>\n",
       "      <td>500</td>\n",
       "      <td>eligible</td>\n",
       "    </tr>\n",
       "    <tr>\n",
       "      <th>d</th>\n",
       "      <td>34</td>\n",
       "      <td>56</td>\n",
       "      <td>8</td>\n",
       "      <td>duper</td>\n",
       "      <td>500</td>\n",
       "      <td>eligible</td>\n",
       "    </tr>\n",
       "  </tbody>\n",
       "</table>\n",
       "</div>"
      ],
      "text/plain": [
       "    su  bb   u new_clmn  main          mass\n",
       "ma  33  43  24    duper   500  not_eligible\n",
       "uj  43  56  67   superb   500      eligible\n",
       "d   34  56   8    duper   500      eligible"
      ]
     },
     "execution_count": 63,
     "metadata": {},
     "output_type": "execute_result"
    }
   ],
   "source": [
    "aa"
   ]
  },
  {
   "cell_type": "code",
   "execution_count": 65,
   "id": "6848c887",
   "metadata": {},
   "outputs": [],
   "source": []
  },
  {
   "cell_type": "code",
   "execution_count": null,
   "id": "76ceeab3",
   "metadata": {},
   "outputs": [],
   "source": []
  },
  {
   "cell_type": "code",
   "execution_count": null,
   "id": "35b9084b",
   "metadata": {},
   "outputs": [],
   "source": []
  }
 ],
 "metadata": {
  "kernelspec": {
   "display_name": "Python 3 (ipykernel)",
   "language": "python",
   "name": "python3"
  },
  "language_info": {
   "codemirror_mode": {
    "name": "ipython",
    "version": 3
   },
   "file_extension": ".py",
   "mimetype": "text/x-python",
   "name": "python",
   "nbconvert_exporter": "python",
   "pygments_lexer": "ipython3",
   "version": "3.9.12"
  }
 },
 "nbformat": 4,
 "nbformat_minor": 5
}
